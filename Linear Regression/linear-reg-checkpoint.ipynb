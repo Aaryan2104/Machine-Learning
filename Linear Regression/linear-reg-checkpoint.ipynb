{
 "cells": [
  {
   "cell_type": "code",
   "execution_count": 4,
   "metadata": {},
   "outputs": [
    {
     "ename": "ModuleNotFoundError",
     "evalue": "No module named 'grad'",
     "output_type": "error",
     "traceback": [
      "\u001b[1;31m---------------------------------------------------------------------------\u001b[0m",
      "\u001b[1;31mModuleNotFoundError\u001b[0m                       Traceback (most recent call last)",
      "\u001b[1;32m<ipython-input-4-3ff60b1bcde4>\u001b[0m in \u001b[0;36m<module>\u001b[1;34m()\u001b[0m\n\u001b[0;32m      2\u001b[0m \u001b[1;32mimport\u001b[0m \u001b[0mmatplotlib\u001b[0m\u001b[1;33m.\u001b[0m\u001b[0mpyplot\u001b[0m \u001b[1;32mas\u001b[0m \u001b[0mmp\u001b[0m\u001b[1;33m\u001b[0m\u001b[0m\n\u001b[0;32m      3\u001b[0m \u001b[1;31m#import cost\u001b[0m\u001b[1;33m\u001b[0m\u001b[1;33m\u001b[0m\u001b[0m\n\u001b[1;32m----> 4\u001b[1;33m \u001b[1;32mimport\u001b[0m \u001b[0mgrad\u001b[0m\u001b[1;33m.\u001b[0m\u001b[0mipynb\u001b[0m\u001b[1;33m\u001b[0m\u001b[0m\n\u001b[0m\u001b[0;32m      5\u001b[0m \u001b[1;33m\u001b[0m\u001b[0m\n\u001b[0;32m      6\u001b[0m \u001b[1;33m\u001b[0m\u001b[0m\n",
      "\u001b[1;31mModuleNotFoundError\u001b[0m: No module named 'grad'"
     ]
    }
   ],
   "source": [
    "import numpy as np\n",
    "import matplotlib.pyplot as mp\n",
    "#import cost\n",
    "import grad.ipynb\n",
    "\n",
    "\n",
    "\n",
    "file_name='LinearRegressiondata.txt'\n",
    "x=open(file_name,\"rt\")\n",
    "data=np.loadtxt(x,delimiter=',')\n",
    "\n",
    "X=np.array([data[:,0],data[:,1]])\n",
    "X=X.T\n",
    "#print(X)\n",
    "\n",
    "Y=np.array([data[:,2]])\n",
    "Y=Y.T\n",
    "#print(Y)\n",
    "\n",
    "X=np.insert(X,0,1,axis=1)\n",
    "#print(X)\n",
    "\n",
    "theta=np.array([[0],[0],[0]])\n",
    "#print(theta)\n",
    "\n",
    "\n",
    "alpha=0.01;\n",
    "i=1500;\n",
    "\n",
    "theta = grad.gradientdes(X,Y,theta,alpha,i)\n",
    "\n",
    "\n",
    "\n",
    "\n"
   ]
  },
  {
   "cell_type": "code",
   "execution_count": 2,
   "metadata": {},
   "outputs": [
    {
     "data": {
      "text/plain": [
       "['',\n",
       " 'C:\\\\Users\\\\Pritam\\\\Desktop\\\\WoC_linear regression',\n",
       " 'C:\\\\Users\\\\Pritam\\\\Desktop\\\\WoC_linear regression',\n",
       " 'D:\\\\python\\\\python37.zip',\n",
       " 'D:\\\\python\\\\DLLs',\n",
       " 'D:\\\\python\\\\lib',\n",
       " 'D:\\\\python',\n",
       " 'D:\\\\python\\\\lib\\\\site-packages',\n",
       " 'D:\\\\python\\\\lib\\\\site-packages\\\\win32',\n",
       " 'D:\\\\python\\\\lib\\\\site-packages\\\\win32\\\\lib',\n",
       " 'D:\\\\python\\\\lib\\\\site-packages\\\\Pythonwin',\n",
       " 'D:\\\\python\\\\lib\\\\site-packages\\\\IPython\\\\extensions',\n",
       " 'C:\\\\Users\\\\Pritam\\\\.ipython']"
      ]
     },
     "execution_count": 2,
     "metadata": {},
     "output_type": "execute_result"
    }
   ],
   "source": [
    "import sys\n",
    "sys.path"
   ]
  },
  {
   "cell_type": "code",
   "execution_count": null,
   "metadata": {},
   "outputs": [],
   "source": []
  }
 ],
 "metadata": {
  "kernelspec": {
   "display_name": "Python 3",
   "language": "python",
   "name": "python3"
  },
  "language_info": {
   "codemirror_mode": {
    "name": "ipython",
    "version": 3
   },
   "file_extension": ".py",
   "mimetype": "text/x-python",
   "name": "python",
   "nbconvert_exporter": "python",
   "pygments_lexer": "ipython3",
   "version": "3.7.0"
  }
 },
 "nbformat": 4,
 "nbformat_minor": 2
}
