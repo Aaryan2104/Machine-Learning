{
 "cells": [
  {
   "cell_type": "code",
   "execution_count": 167,
   "metadata": {},
   "outputs": [],
   "source": [
    "import numpy as np\n"
   ]
  },
  {
   "cell_type": "code",
   "execution_count": 168,
   "metadata": {},
   "outputs": [],
   "source": [
    "data=np.loadtxt(open('LogisticRegressionData2.txt',\"rt\"),delimiter=\",\")"
   ]
  },
  {
   "cell_type": "code",
   "execution_count": 169,
   "metadata": {},
   "outputs": [],
   "source": [
    "X=data[:,:2]\n",
    "Y=data[:,-1:]\n"
   ]
  },
  {
   "cell_type": "code",
   "execution_count": 170,
   "metadata": {},
   "outputs": [],
   "source": [
    "R=np.std(X,axis=0)\n",
    "M=np.mean(X,axis=0)\n",
    "X=(X-M)/R"
   ]
  },
  {
   "cell_type": "code",
   "execution_count": 171,
   "metadata": {},
   "outputs": [],
   "source": [
    "#dividing into training data and test data in the ratio 1:3\n",
    "test_len=X.shape[0]//4\n",
    "X_test=X[:test_len,:]\n",
    "X_train=X[test_len:,:]\n",
    "\n",
    "Y_test=Y[:test_len]\n",
    "Y_train=Y[test_len:]\n"
   ]
  },
  {
   "cell_type": "code",
   "execution_count": 172,
   "metadata": {},
   "outputs": [],
   "source": [
    "#Hypothesis function\n",
    "theta=np.random.rand(3,1)\n",
    "def sigmoid_func(X,theta):\n",
    "    X=np.insert(X,0,1,axis=1)\n",
    "    Z=1/(1+np.exp(X.dot(theta)))\n",
    "    return Z"
   ]
  },
  {
   "cell_type": "code",
   "execution_count": 173,
   "metadata": {},
   "outputs": [],
   "source": [
    "def cost_func(Y_train,Z):\n",
    "    cost = Y_train*np.log(Z)+(1-Y_train)*np.log(1-Z)\n",
    "    return cost"
   ]
  },
  {
   "cell_type": "code",
   "execution_count": 174,
   "metadata": {},
   "outputs": [],
   "source": [
    "def gradient_desc(X,Y,Z,theta,alpha=0.1,i=10000):\n",
    "    X=np.insert(X,0,1,axis=1)\n",
    "    m=Z.shape[0]\n",
    "    D=np.zeros((3,1))\n",
    "    for j in range(i):\n",
    "        D=((((Z - Y).T).dot(X)).T)/m\n",
    "        theta = theta - D*alpha\n",
    "    return theta"
   ]
  },
  {
   "cell_type": "code",
   "execution_count": 175,
   "metadata": {},
   "outputs": [],
   "source": [
    "Z=sigmoid_func(X_train,theta)\n",
    "\n",
    "    "
   ]
  },
  {
   "cell_type": "code",
   "execution_count": 176,
   "metadata": {},
   "outputs": [
    {
     "name": "stdout",
     "output_type": "stream",
     "text": [
      "(89, 1)\n",
      "(89, 1)\n"
     ]
    }
   ],
   "source": [
    "alpha=0.1\n",
    "i=1000\n",
    "print(Z.shape)\n",
    "print(Y_train.shape)\n",
    "theta=gradient_desc(X_train,Y_train,Z,theta,alpha,i)"
   ]
  },
  {
   "cell_type": "code",
   "execution_count": 177,
   "metadata": {},
   "outputs": [],
   "source": [
    "Y_pred=sigmoid_func(X,theta)\n",
    "Y_pred=1-(Y_pred//0.500001)"
   ]
  },
  {
   "cell_type": "code",
   "execution_count": 178,
   "metadata": {},
   "outputs": [],
   "source": [
    "def accuracy(Y_pred,Y):\n",
    "    acc=np.mean((Y_pred==Y))*100\n",
    "    return acc\n"
   ]
  },
  {
   "cell_type": "code",
   "execution_count": 179,
   "metadata": {},
   "outputs": [
    {
     "name": "stdout",
     "output_type": "stream",
     "text": [
      "Accuracy of user-made library :  41.52542372881356 %\n"
     ]
    }
   ],
   "source": [
    "print(\"Accuracy of user-made library : \",accuracy(Y_pred,Y),\"%\")"
   ]
  },
  {
   "cell_type": "code",
   "execution_count": 180,
   "metadata": {},
   "outputs": [
    {
     "name": "stdout",
     "output_type": "stream",
     "text": [
      "accuracy of sklearn model :  50.847457627118644 %\n"
     ]
    }
   ],
   "source": [
    "import warnings\n",
    "warnings.filterwarnings('ignore')\n",
    "from sklearn.linear_model import LogisticRegression\n",
    "logreg = LogisticRegression()\n",
    "logreg.fit(X_train,Y_train)\n",
    "Y_predz=logreg.predict(X)\n",
    "Y_predz=Y_predz.reshape(np.shape(Y))\n",
    "print(\"accuracy of sklearn model : \",np.mean((Y_predz==Y))*100,\"%\")\n"
   ]
  },
  {
   "cell_type": "code",
   "execution_count": null,
   "metadata": {},
   "outputs": [],
   "source": []
  },
  {
   "cell_type": "code",
   "execution_count": null,
   "metadata": {},
   "outputs": [],
   "source": []
  }
 ],
 "metadata": {
  "kernelspec": {
   "display_name": "Python 3",
   "language": "python",
   "name": "python3"
  },
  "language_info": {
   "codemirror_mode": {
    "name": "ipython",
    "version": 3
   },
   "file_extension": ".py",
   "mimetype": "text/x-python",
   "name": "python",
   "nbconvert_exporter": "python",
   "pygments_lexer": "ipython3",
   "version": "3.7.0"
  }
 },
 "nbformat": 4,
 "nbformat_minor": 2
}
