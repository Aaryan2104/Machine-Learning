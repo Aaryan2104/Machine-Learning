{
 "cells": [
  {
   "cell_type": "code",
   "execution_count": 1,
   "metadata": {},
   "outputs": [],
   "source": [
    "import numpy as np\n",
    "import matplotlib.pyplot as plt\n",
    "from Module_like_sklearn import LogR"
   ]
  },
  {
   "cell_type": "code",
   "execution_count": 2,
   "metadata": {},
   "outputs": [],
   "source": [
    "data=np.loadtxt(open('LogisticRegressionData2.txt',\"rt\"),delimiter=\",\")\n",
    "np.random.shuffle(data)    #Randomnly shuffles the data"
   ]
  },
  {
   "cell_type": "code",
   "execution_count": 3,
   "metadata": {},
   "outputs": [],
   "source": [
    "#Creating instance of class\n",
    "train=LogR()"
   ]
  },
  {
   "cell_type": "code",
   "execution_count": 4,
   "metadata": {},
   "outputs": [],
   "source": [
    "#Dividing the dataset into X and Y and normalizing features\n",
    "X=data[:,:2]\n",
    "Y=data[:,-1:]\n",
    "X=train.normalize(X)"
   ]
  },
  {
   "cell_type": "code",
   "execution_count": 5,
   "metadata": {},
   "outputs": [],
   "source": [
    "#dividing into training data and test data in the ratio 3:1\n",
    "test_len=X.shape[0]//4\n",
    "X_test=X[:test_len,:]\n",
    "X_train=X[test_len:,:]\n",
    "\n",
    "Y_test=Y[:test_len]\n",
    "Y_train=Y[test_len:]"
   ]
  },
  {
   "cell_type": "code",
   "execution_count": 6,
   "metadata": {},
   "outputs": [],
   "source": [
    "#training data\n",
    "train.fit(X_train,Y_train)"
   ]
  },
  {
   "cell_type": "code",
   "execution_count": 7,
   "metadata": {},
   "outputs": [
    {
     "name": "stdout",
     "output_type": "stream",
     "text": [
      "[[61.56027254]]\n"
     ]
    }
   ],
   "source": [
    "#Cost function\n",
    "J=train.cost_func()\n",
    "print(J)"
   ]
  },
  {
   "cell_type": "code",
   "execution_count": 8,
   "metadata": {},
   "outputs": [
    {
     "name": "stdout",
     "output_type": "stream",
     "text": [
      "Accuracy of user-made library :  49.152542372881356 %\n"
     ]
    }
   ],
   "source": [
    "#Predicted value of y & Accuracy check\n",
    "Y_pred=train.predict(X)\n",
    "Accuracy=train.accuracy(Y_pred,Y)\n",
    "print(\"Accuracy of user-made library : \",Accuracy,\"%\")\n"
   ]
  },
  {
   "cell_type": "code",
   "execution_count": 9,
   "metadata": {},
   "outputs": [
    {
     "name": "stdout",
     "output_type": "stream",
     "text": [
      "accuracy of sklearn model :  49.152542372881356 %\n"
     ]
    }
   ],
   "source": [
    "#Accuracy of sklearn\n",
    "import warnings\n",
    "warnings.filterwarnings('ignore')\n",
    "from sklearn.linear_model import LogisticRegression\n",
    "logreg = LogisticRegression()\n",
    "logreg.fit(X_train,Y_train)\n",
    "Y_predz=logreg.predict(X)\n",
    "Y_predz=Y_predz.reshape(np.shape(Y))\n",
    "print(\"accuracy of sklearn model : \",np.mean((Y_predz==Y))*100,\"%\")\n"
   ]
  },
  {
   "cell_type": "code",
   "execution_count": 10,
   "metadata": {},
   "outputs": [
    {
     "data": {
      "image/png": "[encoded data removed]",
      "text/plain": [
       "<Figure size 432x288 with 1 Axes>"
      ]
     },
     "metadata": {
      "needs_background": "light"
     },
     "output_type": "display_data"
    }
   ],
   "source": [
    "#Plotting the decision boundary\n",
    "train.plott(X,Y)"
   ]
  }
 ],
 "metadata": {
  "kernelspec": {
   "display_name": "Python 3",
   "language": "python",
   "name": "python3"
  },
  "language_info": {
   "codemirror_mode": {
    "name": "ipython",
    "version": 3
   },
   "file_extension": ".py",
   "mimetype": "text/x-python",
   "name": "python",
   "nbconvert_exporter": "python",
   "pygments_lexer": "ipython3",
   "version": "3.7.0"
  }
 },
 "nbformat": 4,
 "nbformat_minor": 2
}
