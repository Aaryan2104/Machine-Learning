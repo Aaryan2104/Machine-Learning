{
 "cells": [
  {
   "cell_type": "code",
   "execution_count": 1,
   "metadata": {},
   "outputs": [],
   "source": [
    "import numpy as np"
   ]
  },
  {
   "cell_type": "code",
   "execution_count": 2,
   "metadata": {},
   "outputs": [],
   "source": [
    "import matplotlib.pyplot as plt"
   ]
  },
  {
   "cell_type": "code",
   "execution_count": 3,
   "metadata": {},
   "outputs": [],
   "source": [
    "import LogRegModule as lrm"
   ]
  },
  {
   "cell_type": "code",
   "execution_count": 4,
   "metadata": {},
   "outputs": [],
   "source": [
    "data=np.loadtxt(open('LogisticRegressionData1.txt',\"rt\"),delimiter=\",\")"
   ]
  },
  {
   "cell_type": "code",
   "execution_count": 5,
   "metadata": {},
   "outputs": [],
   "source": [
    "X=data[:,:2]\n",
    "Y=data[:,-1:]\n",
    "X=lrm.normalize(X)"
   ]
  },
  {
   "cell_type": "code",
   "execution_count": 6,
   "metadata": {},
   "outputs": [],
   "source": [
    "#dividing into training data and test data in the ratio 1:3\n",
    "test_len=X.shape[0]//4\n",
    "X_test=X[:test_len,:]\n",
    "X_train=X[test_len:,:]\n",
    "\n",
    "Y_test=Y[:test_len]\n",
    "Y_train=Y[test_len:]\n"
   ]
  },
  {
   "cell_type": "code",
   "execution_count": 7,
   "metadata": {},
   "outputs": [],
   "source": [
    "#training data\n",
    "train=lrm.LogR(X_train,Y_train)\n",
    "\n",
    "#Hypothesis function : Sigmoid function\n",
    "Z=train.sigmoid_func()\n",
    "#print(Z)\n"
   ]
  },
  {
   "cell_type": "code",
   "execution_count": 8,
   "metadata": {},
   "outputs": [
    {
     "name": "stdout",
     "output_type": "stream",
     "text": [
      "[[-0.76681792]\n",
      " [-3.56997902]\n",
      " [-3.3487702 ]]\n"
     ]
    }
   ],
   "source": [
    "#gradient descent\n",
    "alpha=0.1\n",
    "i=10000\n",
    "size=20\n",
    "theta=train.mini_gradient_descent(size,alpha,i)\n",
    "print(theta)"
   ]
  },
  {
   "cell_type": "code",
   "execution_count": 9,
   "metadata": {},
   "outputs": [
    {
     "name": "stdout",
     "output_type": "stream",
     "text": [
      "[[16.24785545]]\n"
     ]
    }
   ],
   "source": [
    "#Cost function\n",
    "J=train.cost_func()\n",
    "print(J)"
   ]
  },
  {
   "cell_type": "code",
   "execution_count": 10,
   "metadata": {},
   "outputs": [],
   "source": [
    "#Predicted value of y\n",
    "#Here entire dataset X & Y are used as test data \n",
    "Y_pred=lrm.predict(X,theta)\n"
   ]
  },
  {
   "cell_type": "code",
   "execution_count": 11,
   "metadata": {},
   "outputs": [
    {
     "name": "stdout",
     "output_type": "stream",
     "text": [
      "Accuracy of user-made library :  89.0 %\n"
     ]
    }
   ],
   "source": [
    "#Accuracy of user defined algorithm\n",
    "Accuracy=lrm.accuracy(Y_pred,Y)\n",
    "print(\"Accuracy of user-made library : \",Accuracy,\"%\")"
   ]
  },
  {
   "cell_type": "code",
   "execution_count": 12,
   "metadata": {},
   "outputs": [
    {
     "name": "stdout",
     "output_type": "stream",
     "text": [
      "accuracy of sklearn model :  90.0 %\n"
     ]
    }
   ],
   "source": [
    "#Accuracy of sklearn\n",
    "import warnings\n",
    "warnings.filterwarnings('ignore')\n",
    "from sklearn.linear_model import LogisticRegression\n",
    "logreg = LogisticRegression()\n",
    "logreg.fit(X_train,Y_train)\n",
    "Y_predz=logreg.predict(X)\n",
    "Y_predz=Y_predz.reshape(np.shape(Y))\n",
    "#print(Y_predz)\n",
    "print(\"accuracy of sklearn model : \",np.mean((Y_predz==Y))*100,\"%\")\n"
   ]
  },
  {
   "cell_type": "code",
   "execution_count": 13,
   "metadata": {},
   "outputs": [
    {
     "data": {
      "image/png": "[encoded data removed]",
      "text/plain": [
       "<Figure size 432x288 with 1 Axes>"
      ]
     },
     "metadata": {
      "needs_background": "light"
     },
     "output_type": "display_data"
    }
   ],
   "source": [
    "lrm.plott(X,Y,theta)\n",
    "    \n"
   ]
  },
  {
   "cell_type": "code",
   "execution_count": null,
   "metadata": {},
   "outputs": [],
   "source": []
  }
 ],
 "metadata": {
  "kernelspec": {
   "display_name": "Python 3",
   "language": "python",
   "name": "python3"
  },
  "language_info": {
   "codemirror_mode": {
    "name": "ipython",
    "version": 3
   },
   "file_extension": ".py",
   "mimetype": "text/x-python",
   "name": "python",
   "nbconvert_exporter": "python",
   "pygments_lexer": "ipython3",
   "version": "3.7.0"
  }
 },
 "nbformat": 4,
 "nbformat_minor": 2
}
